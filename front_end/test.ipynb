{
 "cells": [
  {
   "cell_type": "code",
   "execution_count": 2,
   "metadata": {},
   "outputs": [
    {
     "data": {
      "text/plain": [
       "'50_brp9iVCzl4aMx98iA7GsDuPaomkrBJy714vMZHO1387QS1NJbQzA5KQgdCXBpiAIdxJ20T-VMPpLRcRQ85cAIz-PICHKX8CC5WCYcKHhKGR__nXscqz3VImQwp7dvD98SbBl1In3BRVk7RxgCXZhAFAUPR'"
      ]
     },
     "execution_count": 2,
     "metadata": {},
     "output_type": "execute_result"
    }
   ],
   "source": [
    "import requests\n",
    "getAK = requests.get(\"https://api.weixin.qq.com/cgi-bin/token?grant_type=client_credential&appid=wx626bb85ae061201d&secret=7bf4c57f0fc9aa72fee57454fe702849\")\n",
    "j = getAK.json()\n",
    "j['access_token']"
   ]
  },
  {
   "cell_type": "code",
   "execution_count": null,
   "metadata": {},
   "outputs": [],
   "source": [
    "import json\n",
    "import requests\n",
    "import base64\n",
    "getQrCode = requests.post(\"https://api.weixin.qq.com/wxa/getwxacodeunlimit?access_token=\" + j['access_token'], data=json.dumps({'scene': \"wzr\"}))\n",
    "base64_data = base64.b64encode(getQrCode.content)\n",
    "base64_data"
   ]
  },
  {
   "cell_type": "code",
   "execution_count": null,
   "metadata": {},
   "outputs": [],
   "source": []
  }
 ],
 "metadata": {
  "interpreter": {
   "hash": "31f2aee4e71d21fbe5cf8b01ff0e069b9275f58929596ceb00d14d90e3e16cd6"
  },
  "kernelspec": {
   "display_name": "Python 3.8.9 64-bit",
   "language": "python",
   "name": "python3"
  },
  "language_info": {
   "codemirror_mode": {
    "name": "ipython",
    "version": 3
   },
   "file_extension": ".py",
   "mimetype": "text/x-python",
   "name": "python",
   "nbconvert_exporter": "python",
   "pygments_lexer": "ipython3",
   "version": "3.8.9"
  },
  "orig_nbformat": 4
 },
 "nbformat": 4,
 "nbformat_minor": 2
}
